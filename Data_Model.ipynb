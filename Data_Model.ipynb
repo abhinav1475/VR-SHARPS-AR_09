{
  "nbformat": 4,
  "nbformat_minor": 0,
  "metadata": {
    "colab": {
      "provenance": []
    },
    "kernelspec": {
      "name": "python3",
      "display_name": "Python 3"
    },
    "language_info": {
      "name": "python"
    }
  },
  "cells": [
    {
      "cell_type": "code",
      "execution_count": 15,
      "metadata": {
        "colab": {
          "base_uri": "https://localhost:8080/"
        },
        "id": "dtN8m5vwaRl7",
        "outputId": "7e315f86-b181-45a6-e4d6-3c164f3f1f4b"
      },
      "outputs": [
        {
          "output_type": "stream",
          "name": "stdout",
          "text": [
            "            Timestamp   Humidity  Temperature  Soil Moisture  Gas Levels  \\\n",
            "0 2024-01-01 00:00:00  78.262380    21.894255      26.878127   95.262174   \n",
            "1 2024-01-01 01:00:00  77.900060    21.602907      45.351559    4.439906   \n",
            "2 2024-01-01 02:00:00  59.334534    35.841645      56.869532    3.531373   \n",
            "3 2024-01-01 03:00:00  74.395622    29.108370      55.393598   34.704940   \n",
            "4 2024-01-01 04:00:00  89.123547    21.510083      40.399514   47.839250   \n",
            "\n",
            "  Diseases Prone To  Disease Risk  \n",
            "0           Healthy             0  \n",
            "1           Healthy             0  \n",
            "2           Healthy             0  \n",
            "3           Healthy             0  \n",
            "4           Healthy             0  \n"
          ]
        }
      ],
      "source": [
        "import pandas as pd\n",
        "import numpy as np\n",
        "from datetime import timedelta, datetime\n",
        "\n",
        "# Parameters\n",
        "num_days = 7  # Number of days to collect data\n",
        "hours_per_day = 24  # Number of hours in a day\n",
        "start_date = datetime(2024, 1, 1)  # Starting date\n",
        "num_samples = num_days * hours_per_day\n",
        "\n",
        "# Generate data\n",
        "data = []\n",
        "for hour in range(num_samples):\n",
        "    timestamp = start_date + timedelta(hours=hour)\n",
        "\n",
        "    # Simulating realistic patterns\n",
        "    humidity = np.random.normal(loc=75, scale=10)  # Average 75% humidity with some variability\n",
        "    temperature = np.random.normal(loc=25, scale=5)  # Average 25°C\n",
        "    soil_moisture = np.random.normal(loc=50, scale=15)  # Average 50% soil moisture\n",
        "    gas_levels = np.random.uniform(0, 100)  # Simulated gas levels\n",
        "\n",
        "    # Determine disease risk based on conditions\n",
        "    diseases_prone_to = []\n",
        "    disease_risk = 0\n",
        "\n",
        "    if humidity > 90 and temperature > 30:\n",
        "        diseases_prone_to.append(\"Apple___Apple_scab\")\n",
        "        disease_risk = 1\n",
        "    elif humidity > 80 and soil_moisture > 70:\n",
        "        diseases_prone_to.append(\"Apple___Black_rot\")\n",
        "        disease_risk = 1\n",
        "    elif temperature > 35 and humidity > 75:\n",
        "        diseases_prone_to.append(\"Apple___Cedar_apple_rust\")\n",
        "        disease_risk = 1\n",
        "\n",
        "    if not diseases_prone_to:\n",
        "        diseases_prone_to = [\"Healthy\"]\n",
        "\n",
        "    data.append([timestamp, humidity, temperature, soil_moisture, gas_levels, ', '.join(diseases_prone_to), disease_risk])\n",
        "\n",
        "# Create DataFrame\n",
        "df = pd.DataFrame(data, columns=[\"Timestamp\", \"Humidity\", \"Temperature\", \"Soil Moisture\", \"Gas Levels\", \"Diseases Prone To\", \"Disease Risk\"])\n",
        "\n",
        "# Save to CSV for reference\n",
        "df.to_csv(\"synthetic_hourly_apple_scab_dataset.csv\", index=False)\n",
        "\n",
        "# Display the first few rows of the dataset\n",
        "print(df.head())\n"
      ]
    },
    {
      "cell_type": "code",
      "source": [
        "from sklearn.model_selection import train_test_split\n",
        "from sklearn.linear_model import LogisticRegression\n",
        "from sklearn.metrics import classification_report, confusion_matrix\n",
        "\n",
        "# Prepare data for training\n",
        "X = df[['Humidity', 'Temperature', 'Soil Moisture', 'Gas Levels']]\n",
        "y = df['Disease Risk']\n",
        "\n",
        "# Split the dataset into training and testing sets\n",
        "X_train, X_test, y_train, y_test = train_test_split(X, y, test_size=0.3, random_state=42)\n",
        "\n",
        "# Initialize and train the logistic regression model\n",
        "model = LogisticRegression()\n",
        "model.fit(X_train, y_train)\n",
        "\n",
        "# Make predictions\n",
        "y_pred = model.predict(X_test)\n",
        "\n",
        "# Evaluate the model\n",
        "print(\"Confusion Matrix:\")\n",
        "print(confusion_matrix(y_test, y_pred))\n",
        "print(\"\\nClassification Report:\")\n",
        "print(classification_report(y_test, y_pred))\n"
      ],
      "metadata": {
        "colab": {
          "base_uri": "https://localhost:8080/"
        },
        "id": "q1agAd3Man0p",
        "outputId": "a060f1e5-7e05-4f2c-8f58-ff3367233dcb"
      },
      "execution_count": 16,
      "outputs": [
        {
          "output_type": "stream",
          "name": "stdout",
          "text": [
            "Confusion Matrix:\n",
            "[[47  1]\n",
            " [ 2  1]]\n",
            "\n",
            "Classification Report:\n",
            "              precision    recall  f1-score   support\n",
            "\n",
            "           0       0.96      0.98      0.97        48\n",
            "           1       0.50      0.33      0.40         3\n",
            "\n",
            "    accuracy                           0.94        51\n",
            "   macro avg       0.73      0.66      0.68        51\n",
            "weighted avg       0.93      0.94      0.94        51\n",
            "\n"
          ]
        }
      ]
    },
    {
      "cell_type": "code",
      "source": [
        "pip install joblib\n"
      ],
      "metadata": {
        "colab": {
          "base_uri": "https://localhost:8080/"
        },
        "id": "rInjRdGSdClZ",
        "outputId": "52966b78-feba-4a58-9654-e89d91db44ef"
      },
      "execution_count": 17,
      "outputs": [
        {
          "output_type": "stream",
          "name": "stdout",
          "text": [
            "Requirement already satisfied: joblib in /usr/local/lib/python3.10/dist-packages (1.4.2)\n"
          ]
        }
      ]
    },
    {
      "cell_type": "code",
      "source": [
        "import joblib\n",
        "\n",
        "# Save the trained model to a file\n",
        "joblib.dump(model, 'logistic_regression_model.pkl')\n"
      ],
      "metadata": {
        "colab": {
          "base_uri": "https://localhost:8080/"
        },
        "id": "GJ51KpoWdpiF",
        "outputId": "679137c8-8b33-4247-db28-41b3a4440c8b"
      },
      "execution_count": 18,
      "outputs": [
        {
          "output_type": "execute_result",
          "data": {
            "text/plain": [
              "['logistic_regression_model.pkl']"
            ]
          },
          "metadata": {},
          "execution_count": 18
        }
      ]
    },
    {
      "cell_type": "code",
      "source": [
        "import pandas as pd\n",
        "import joblib\n",
        "\n",
        "# Load the trained model\n",
        "loaded_model = joblib.load('logistic_regression_model.pkl')\n",
        "\n",
        "# Prepare new input data\n",
        "new_data = {\n",
        "    'Humidity': [85, 92, 75],        # Example humidity values\n",
        "    'Temperature': [30, 28, 22],     # Example temperature values\n",
        "    'Soil Moisture': [65, 80, 50],    # Example soil moisture values\n",
        "    'Gas Levels': [20, 15, 30]        # Example gas levels\n",
        "}\n",
        "\n",
        "# Create a DataFrame for the new input data\n",
        "new_df = pd.DataFrame(new_data)\n",
        "\n",
        "# Make predictions using the loaded model\n",
        "predictions = loaded_model.predict(new_df)\n",
        "\n",
        "# Define the disease mapping based on your classes\n",
        "disease_mapping = {\n",
        "    0: \"Healthy\",\n",
        "    1: \"Apple___Apple_scab\",\n",
        "    2: \"Apple___Black_rot\",\n",
        "    3: \"Apple___Cedar_apple_rust\",\n",
        "    # Add other mappings as needed\n",
        "}\n",
        "\n",
        "# Output the predictions with disease names\n",
        "for i, pred in enumerate(predictions):\n",
        "    disease = disease_mapping.get(pred, \"Unknown disease\")\n",
        "    print(f\"Prediction for input {i + 1}: {disease}\")\n"
      ],
      "metadata": {
        "colab": {
          "base_uri": "https://localhost:8080/"
        },
        "id": "6UWrQzmqduIC",
        "outputId": "c1420f5a-0f17-419b-c8e3-0b35ff2b911e"
      },
      "execution_count": 20,
      "outputs": [
        {
          "output_type": "stream",
          "name": "stdout",
          "text": [
            "Prediction for input 1: Apple___Apple_scab\n",
            "Prediction for input 2: Apple___Apple_scab\n",
            "Prediction for input 3: Healthy\n"
          ]
        }
      ]
    },
    {
      "cell_type": "code",
      "source": [],
      "metadata": {
        "id": "_eOwV6qUd602"
      },
      "execution_count": null,
      "outputs": []
    }
  ]
}