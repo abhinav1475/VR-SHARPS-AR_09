{
  "metadata": {
    "kernelspec": {
      "language": "python",
      "display_name": "Python 3",
      "name": "python3"
    },
    "language_info": {
      "name": "python",
      "version": "3.10.14",
      "mimetype": "text/x-python",
      "codemirror_mode": {
        "name": "ipython",
        "version": 3
      },
      "pygments_lexer": "ipython3",
      "nbconvert_exporter": "python",
      "file_extension": ".py"
    },
    "kaggle": {
      "accelerator": "none",
      "dataSources": [
        {
          "sourceId": 9287901,
          "sourceType": "datasetVersion",
          "datasetId": 5622495
        }
      ],
      "dockerImageVersionId": 30786,
      "isInternetEnabled": true,
      "language": "python",
      "sourceType": "notebook",
      "isGpuEnabled": false
    },
    "colab": {
      "name": "crop yeild prediction",
      "provenance": []
    }
  },
  "nbformat_minor": 0,
  "nbformat": 4,
  "cells": [
    {
      "source": [
        "# IMPORTANT: RUN THIS CELL IN ORDER TO IMPORT YOUR KAGGLE DATA SOURCES,\n",
        "# THEN FEEL FREE TO DELETE THIS CELL.\n",
        "# NOTE: THIS NOTEBOOK ENVIRONMENT DIFFERS FROM KAGGLE'S PYTHON\n",
        "# ENVIRONMENT SO THERE MAY BE MISSING LIBRARIES USED BY YOUR\n",
        "# NOTEBOOK.\n",
        "import kagglehub\n",
        "madhankumar789_crop_yield_and_environmental_factors_2014_2023_path = kagglehub.dataset_download('madhankumar789/crop-yield-and-environmental-factors-2014-2023')\n",
        "\n",
        "print('Data source import complete.')\n"
      ],
      "metadata": {
        "id": "q_aBlQdotwsv"
      },
      "cell_type": "code",
      "outputs": [],
      "execution_count": null
    },
    {
      "cell_type": "code",
      "source": [],
      "metadata": {
        "_uuid": "8f2839f25d086af736a60e9eeb907d3b93b6e0e5",
        "_cell_guid": "b1076dfc-b9ad-4769-8c92-a6c4dae69d19",
        "trusted": true,
        "id": "fhhNovOVtws2"
      },
      "execution_count": null,
      "outputs": []
    },
    {
      "cell_type": "code",
      "source": [
        "# Import required libraries\n",
        "import pandas as pd\n",
        "\n",
        "# Load the dataset\n",
        "file_path = '/kaggle/input/crop-yield-and-environmental-factors-2014-2023/crop_yield_dataset.csv'\n",
        "data = pd.read_csv(file_path)\n",
        "\n",
        "# Display the first few rows to understand the data structure\n",
        "data.head()\n"
      ],
      "metadata": {
        "execution": {
          "iopub.status.busy": "2024-10-26T19:43:21.486582Z",
          "iopub.execute_input": "2024-10-26T19:43:21.487646Z",
          "iopub.status.idle": "2024-10-26T19:43:22.940248Z",
          "shell.execute_reply.started": "2024-10-26T19:43:21.487586Z",
          "shell.execute_reply": "2024-10-26T19:43:22.939055Z"
        },
        "trusted": true,
        "id": "yGSkm2CGtws3",
        "outputId": "5dba611e-51c8-4921-8052-cd391598cf40"
      },
      "execution_count": null,
      "outputs": [
        {
          "execution_count": 1,
          "output_type": "execute_result",
          "data": {
            "text/plain": "         Date Crop_Type Soil_Type  Soil_pH  Temperature   Humidity  \\\n0  2014-01-01     Wheat     Peaty     5.50     9.440599  80.000000   \n1  2014-01-01      Corn     Loamy     6.50    20.052576  79.947424   \n2  2014-01-01      Rice     Peaty     5.50    12.143099  80.000000   \n3  2014-01-01    Barley     Sandy     6.75    19.751848  80.000000   \n4  2014-01-01   Soybean     Peaty     5.50    16.110395  80.000000   \n\n   Wind_Speed     N     P     K  Crop_Yield  Soil_Quality  \n0   10.956707  60.5  45.0  31.5    0.000000     22.833333  \n1    8.591577  84.0  66.0  50.0  104.871310     66.666667  \n2    7.227751  71.5  54.0  38.5    0.000000     27.333333  \n3    2.682683  50.0  40.0  30.0   58.939796     35.000000  \n4    7.696070  49.5  45.0  38.5   32.970413     22.166667  ",
            "text/html": "<div>\n<style scoped>\n    .dataframe tbody tr th:only-of-type {\n        vertical-align: middle;\n    }\n\n    .dataframe tbody tr th {\n        vertical-align: top;\n    }\n\n    .dataframe thead th {\n        text-align: right;\n    }\n</style>\n<table border=\"1\" class=\"dataframe\">\n  <thead>\n    <tr style=\"text-align: right;\">\n      <th></th>\n      <th>Date</th>\n      <th>Crop_Type</th>\n      <th>Soil_Type</th>\n      <th>Soil_pH</th>\n      <th>Temperature</th>\n      <th>Humidity</th>\n      <th>Wind_Speed</th>\n      <th>N</th>\n      <th>P</th>\n      <th>K</th>\n      <th>Crop_Yield</th>\n      <th>Soil_Quality</th>\n    </tr>\n  </thead>\n  <tbody>\n    <tr>\n      <th>0</th>\n      <td>2014-01-01</td>\n      <td>Wheat</td>\n      <td>Peaty</td>\n      <td>5.50</td>\n      <td>9.440599</td>\n      <td>80.000000</td>\n      <td>10.956707</td>\n      <td>60.5</td>\n      <td>45.0</td>\n      <td>31.5</td>\n      <td>0.000000</td>\n      <td>22.833333</td>\n    </tr>\n    <tr>\n      <th>1</th>\n      <td>2014-01-01</td>\n      <td>Corn</td>\n      <td>Loamy</td>\n      <td>6.50</td>\n      <td>20.052576</td>\n      <td>79.947424</td>\n      <td>8.591577</td>\n      <td>84.0</td>\n      <td>66.0</td>\n      <td>50.0</td>\n      <td>104.871310</td>\n      <td>66.666667</td>\n    </tr>\n    <tr>\n      <th>2</th>\n      <td>2014-01-01</td>\n      <td>Rice</td>\n      <td>Peaty</td>\n      <td>5.50</td>\n      <td>12.143099</td>\n      <td>80.000000</td>\n      <td>7.227751</td>\n      <td>71.5</td>\n      <td>54.0</td>\n      <td>38.5</td>\n      <td>0.000000</td>\n      <td>27.333333</td>\n    </tr>\n    <tr>\n      <th>3</th>\n      <td>2014-01-01</td>\n      <td>Barley</td>\n      <td>Sandy</td>\n      <td>6.75</td>\n      <td>19.751848</td>\n      <td>80.000000</td>\n      <td>2.682683</td>\n      <td>50.0</td>\n      <td>40.0</td>\n      <td>30.0</td>\n      <td>58.939796</td>\n      <td>35.000000</td>\n    </tr>\n    <tr>\n      <th>4</th>\n      <td>2014-01-01</td>\n      <td>Soybean</td>\n      <td>Peaty</td>\n      <td>5.50</td>\n      <td>16.110395</td>\n      <td>80.000000</td>\n      <td>7.696070</td>\n      <td>49.5</td>\n      <td>45.0</td>\n      <td>38.5</td>\n      <td>32.970413</td>\n      <td>22.166667</td>\n    </tr>\n  </tbody>\n</table>\n</div>"
          },
          "metadata": {}
        }
      ]
    },
    {
      "cell_type": "code",
      "source": [
        "from sklearn.preprocessing import StandardScaler\n",
        "from sklearn.decomposition import PCA\n",
        "import pandas as pd\n",
        "\n",
        "# Load dataset\n",
        "file_path = '/kaggle/input/crop-yield-and-environmental-factors-2014-2023/crop_yield_dataset.csv'\n",
        "data = pd.read_csv(file_path)\n",
        "\n",
        "# Separate out numeric columns and standardize them\n",
        "numeric_features = ['Soil_pH', 'Temperature', 'Humidity', 'Wind_Speed', 'N', 'P', 'K', 'Crop_Yield', 'Soil_Quality']\n",
        "data_numeric = data[numeric_features]\n",
        "\n",
        "# Standardize the numeric features\n",
        "scaler = StandardScaler()\n",
        "data_numeric_scaled = scaler.fit_transform(data_numeric)\n",
        "\n",
        "# Encode categorical features using one-hot encoding\n",
        "data_encoded = pd.get_dummies(data[['Crop_Type', 'Soil_Type']], drop_first=True)\n",
        "\n",
        "# Combine scaled numeric and encoded categorical features\n",
        "data_final = pd.DataFrame(data_numeric_scaled, columns=numeric_features).join(data_encoded)\n",
        "\n",
        "# Apply PCA\n",
        "pca = PCA()\n",
        "pca.fit(data_final)\n",
        "\n",
        "# Check explained variance for each principal component\n",
        "explained_variance = pca.explained_variance_ratio_\n",
        "print(\"Explained Variance per Principal Component:\", explained_variance)\n",
        "\n",
        "# Cumulative explained variance\n",
        "cumulative_variance = pca.explained_variance_ratio_.cumsum()\n",
        "print(\"Cumulative Explained Variance:\", cumulative_variance)\n",
        "\n",
        "# Plot the cumulative explained variance\n",
        "import matplotlib.pyplot as plt\n",
        "\n",
        "plt.figure(figsize=(8, 6))\n",
        "plt.plot(range(1, len(cumulative_variance)+1), cumulative_variance, marker='o', linestyle='--')\n",
        "plt.xlabel('Number of Principal Components')\n",
        "plt.ylabel('Cumulative Explained Variance')\n",
        "plt.title('PCA - Cumulative Explained Variance')\n",
        "plt.grid()\n",
        "plt.show()\n"
      ],
      "metadata": {
        "execution": {
          "iopub.status.busy": "2024-10-26T19:45:07.789621Z",
          "iopub.execute_input": "2024-10-26T19:45:07.790137Z",
          "iopub.status.idle": "2024-10-26T19:45:09.323325Z",
          "shell.execute_reply.started": "2024-10-26T19:45:07.790083Z",
          "shell.execute_reply": "2024-10-26T19:45:09.322093Z"
        },
        "trusted": true,
        "id": "FYy_pPCDtws5",
        "outputId": "3d613464-7d56-4d27-cfe8-80eb985b78c1"
      },
      "execution_count": null,
      "outputs": [
        {
          "name": "stdout",
          "text": "Explained Variance per Principal Component: [3.04543629e-01 2.10528171e-01 1.45246547e-01 9.56876484e-02\n 6.94626297e-02 5.53607579e-02 3.80706374e-02 1.25013325e-02\n 1.15918368e-02 9.57028719e-03 9.56926123e-03 9.56876035e-03\n 9.56831623e-03 9.56390729e-03 5.09169564e-03 2.36621684e-03\n 1.35580071e-03 1.41291325e-04 1.12648287e-04 6.16690415e-05\n 3.69565256e-05 6.95348804e-32]\nCumulative Explained Variance: [0.30454363 0.5150718  0.66031835 0.756006   0.82546862 0.88082938\n 0.91890002 0.93140135 0.94299319 0.95256348 0.96213274 0.9717015\n 0.98126981 0.99083372 0.99592542 0.99829163 0.99964743 0.99978873\n 0.99990137 0.99996304 1.         1.        ]\n",
          "output_type": "stream"
        },
        {
          "output_type": "display_data",
          "data": {
            "text/plain": "<Figure size 800x600 with 1 Axes>",
            "image/png": "[encoded data removed]"
          },
          "metadata": {}
        }
      ]
    },
    {
      "cell_type": "code",
      "source": [
        "# Import necessary libraries\n",
        "import pandas as pd\n",
        "from sklearn.model_selection import train_test_split\n",
        "from sklearn.ensemble import RandomForestRegressor\n",
        "from sklearn.metrics import mean_absolute_error, r2_score\n",
        "\n",
        "# Load dataset\n",
        "file_path = '/kaggle/input/crop-yield-and-environmental-factors-2014-2023/crop_yield_dataset.csv'\n",
        "data = pd.read_csv(file_path)\n",
        "\n",
        "# Drop specified columns\n",
        "data = data.drop(['Wind_Speed', 'Soil_Type'], axis=1)\n",
        "\n",
        "# Convert Date to a datetime object and extract features (Year, Month)\n",
        "data['Date'] = pd.to_datetime(data['Date'])\n",
        "data['Year'] = data['Date'].dt.year\n",
        "data['Month'] = data['Date'].dt.month\n",
        "data = data.drop(['Date'], axis=1)\n",
        "\n",
        "# Encode categorical features (Crop_Type) with one-hot encoding\n",
        "data = pd.get_dummies(data, columns=['Crop_Type'], drop_first=True)\n",
        "\n",
        "# Define features and target variable\n",
        "X = data.drop(['Crop_Yield'], axis=1)\n",
        "y = data['Crop_Yield']\n",
        "\n",
        "# Split data into training and testing sets\n",
        "X_train, X_test, y_train, y_test = train_test_split(X, y, test_size=0.2, random_state=42)\n",
        "\n",
        "# Initialize and train the model\n",
        "model = RandomForestRegressor(random_state=42, n_estimators=100)\n",
        "model.fit(X_train, y_train)\n",
        "\n",
        "# Make predictions\n",
        "y_pred = model.predict(X_test)\n",
        "\n",
        "# Evaluate the model\n",
        "mae = mean_absolute_error(y_test, y_pred)\n",
        "r2 = r2_score(y_test, y_pred)\n",
        "\n",
        "print(\"Mean Absolute Error (MAE):\", mae)\n",
        "print(\"R-squared (R2):\", r2)\n"
      ],
      "metadata": {
        "execution": {
          "iopub.status.busy": "2024-10-26T19:46:24.753812Z",
          "iopub.execute_input": "2024-10-26T19:46:24.75431Z",
          "iopub.status.idle": "2024-10-26T19:46:38.793404Z",
          "shell.execute_reply.started": "2024-10-26T19:46:24.754262Z",
          "shell.execute_reply": "2024-10-26T19:46:38.79211Z"
        },
        "trusted": true,
        "id": "oWK1-vd3tws7",
        "outputId": "774e60f8-5924-49c4-94cb-4d1817d8148c"
      },
      "execution_count": null,
      "outputs": [
        {
          "name": "stdout",
          "text": "Mean Absolute Error (MAE): 2.38219424152617\nR-squared (R2): 0.9748284537873011\n",
          "output_type": "stream"
        }
      ]
    },
    {
      "cell_type": "code",
      "source": [
        "from sklearn.linear_model import LinearRegression\n",
        "from sklearn.ensemble import GradientBoostingRegressor\n",
        "from xgboost import XGBRegressor\n",
        "from sklearn.metrics import mean_squared_error, mean_absolute_error, r2_score\n",
        "\n",
        "# Define models to evaluate\n",
        "models = {\n",
        "    'Random Forest': RandomForestRegressor(random_state=42, n_estimators=100),\n",
        "    'Linear Regression': LinearRegression(),\n",
        "    'Gradient Boosting': GradientBoostingRegressor(random_state=42),\n",
        "    'XGBoost': XGBRegressor(random_state=42)\n",
        "}\n",
        "\n",
        "# Dictionary to store results\n",
        "results = {}\n",
        "\n",
        "# Loop through each model\n",
        "for name, model in models.items():\n",
        "    model.fit(X_train, y_train)\n",
        "    y_pred = model.predict(X_test)\n",
        "\n",
        "    # Calculate regression metrics\n",
        "    mae = mean_absolute_error(y_test, y_pred)\n",
        "    rmse = mean_squared_error(y_test, y_pred, squared=False)\n",
        "    r2 = r2_score(y_test, y_pred)\n",
        "\n",
        "    # Store results\n",
        "    results[name] = {\n",
        "        'MAE': mae,\n",
        "        'RMSE': rmse,\n",
        "        'R2': r2\n",
        "    }\n",
        "\n",
        "# Convert results to DataFrame for easy viewing\n",
        "results_df = pd.DataFrame(results).T\n",
        "print(\"Regression Metrics for Different Models:\\n\", results_df)\n",
        "\n",
        "\n"
      ],
      "metadata": {
        "execution": {
          "iopub.status.busy": "2024-10-26T19:50:26.75422Z",
          "iopub.execute_input": "2024-10-26T19:50:26.754943Z",
          "iopub.status.idle": "2024-10-26T19:50:45.72988Z",
          "shell.execute_reply.started": "2024-10-26T19:50:26.754874Z",
          "shell.execute_reply": "2024-10-26T19:50:45.728755Z"
        },
        "trusted": true,
        "id": "TyfG1cnttws8",
        "outputId": "638fd511-f66b-4eae-bfc2-ba080eb631d0"
      },
      "execution_count": null,
      "outputs": [
        {
          "name": "stdout",
          "text": "Regression Metrics for Different Models:\n                          MAE       RMSE        R2\nRandom Forest       2.382194   4.096961  0.974828\nLinear Regression  11.930263  15.340854  0.647073\nGradient Boosting   5.184738   7.130377  0.923755\nXGBoost             2.415916   4.011123  0.975872\n",
          "output_type": "stream"
        }
      ]
    },
    {
      "cell_type": "code",
      "source": [
        "import pandas as pd\n",
        "from sklearn.linear_model import LinearRegression\n",
        "from sklearn.ensemble import RandomForestRegressor, GradientBoostingRegressor\n",
        "from xgboost import XGBRegressor\n",
        "from sklearn.metrics import mean_squared_error, mean_absolute_error, r2_score\n",
        "import joblib\n",
        "\n",
        "# Define models to evaluate\n",
        "models = {\n",
        "    'Random Forest': RandomForestRegressor(random_state=42, n_estimators=100),\n",
        "    'Linear Regression': LinearRegression(),\n",
        "    'Gradient Boosting': GradientBoostingRegressor(random_state=42),\n",
        "    'XGBoost': XGBRegressor(random_state=42)\n",
        "}\n",
        "\n",
        "# Dictionary to store results\n",
        "results = {}\n",
        "\n",
        "# Loop through each model\n",
        "for name, model in models.items():\n",
        "    model.fit(X_train, y_train)\n",
        "    y_pred = model.predict(X_test)\n",
        "\n",
        "    # Calculate regression metrics\n",
        "    mae = mean_absolute_error(y_test, y_pred)\n",
        "    rmse = mean_squared_error(y_test, y_pred, squared=False)\n",
        "    r2 = r2_score(y_test, y_pred)\n",
        "\n",
        "    # Store results\n",
        "    results[name] = {\n",
        "        'MAE': mae,\n",
        "        'RMSE': rmse,\n",
        "        'R2': r2\n",
        "    }\n",
        "\n",
        "# Convert results to DataFrame for easy viewing\n",
        "results_df = pd.DataFrame(results).T\n",
        "print(\"Regression Metrics for Different Models:\\n\", results_df)\n",
        "\n",
        "# Step to save the Random Forest model if it performed well\n",
        "best_model_name = 'Random Forest'\n",
        "best_model = models[best_model_name]\n",
        "\n",
        "# Save the Random Forest model\n",
        "model_filename = 'random_forest_model.pkl'\n",
        "joblib.dump(best_model, model_filename)\n",
        "\n",
        "print(f\"Model saved as {model_filename}\")\n"
      ],
      "metadata": {
        "execution": {
          "iopub.status.busy": "2024-10-26T19:54:12.25877Z",
          "iopub.execute_input": "2024-10-26T19:54:12.25926Z",
          "iopub.status.idle": "2024-10-26T19:54:32.58059Z",
          "shell.execute_reply.started": "2024-10-26T19:54:12.259214Z",
          "shell.execute_reply": "2024-10-26T19:54:32.579068Z"
        },
        "trusted": true,
        "id": "o84Q3YdNtws-",
        "outputId": "d61a3eb2-45b9-4015-97c1-dcf3f851568c"
      },
      "execution_count": null,
      "outputs": [
        {
          "name": "stdout",
          "text": "Regression Metrics for Different Models:\n                          MAE       RMSE        R2\nRandom Forest       2.382194   4.096961  0.974828\nLinear Regression  11.930263  15.340854  0.647073\nGradient Boosting   5.184738   7.130377  0.923755\nXGBoost             2.415916   4.011123  0.975872\nModel saved as random_forest_model.pkl\n",
          "output_type": "stream"
        }
      ]
    },
    {
      "cell_type": "code",
      "source": [],
      "metadata": {
        "id": "XRYkNTt0twtA"
      },
      "execution_count": null,
      "outputs": []
    }
  ]
}